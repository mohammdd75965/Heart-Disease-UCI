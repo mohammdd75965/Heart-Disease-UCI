{
  "nbformat": 4,
  "nbformat_minor": 0,
  "metadata": {
    "colab": {
      "name": "Untitled16.ipynb",
      "provenance": [],
      "collapsed_sections": [],
      "mount_file_id": "1t7YxNKGIlqPSoD4RClgHXj_nyqIsffu2",
      "authorship_tag": "ABX9TyNmswjLVALRfefmSDRO0s3N",
      "include_colab_link": true
    },
    "kernelspec": {
      "name": "python3",
      "display_name": "Python 3"
    },
    "language_info": {
      "name": "python"
    }
  },
  "cells": [
    {
      "cell_type": "markdown",
      "metadata": {
        "id": "view-in-github",
        "colab_type": "text"
      },
      "source": [
        "<a href=\"https://colab.research.google.com/github/mohammdd75965/Heart-Disease-UCI/blob/main/coruna.ipynb\" target=\"_parent\"><img src=\"https://colab.research.google.com/assets/colab-badge.svg\" alt=\"Open In Colab\"/></a>"
      ]
    },
    {
      "cell_type": "code",
      "execution_count": 52,
      "metadata": {
        "id": "5zkyKIdzSQnm"
      },
      "outputs": [],
      "source": [
        "import cv2\n"
      ]
    },
    {
      "cell_type": "code",
      "source": [
        "import os"
      ],
      "metadata": {
        "id": "_R7tdHScyY0y"
      },
      "execution_count": 53,
      "outputs": []
    },
    {
      "cell_type": "code",
      "source": [
        "from google.colab import drive\n",
        "drive.mount('/content/drive')"
      ],
      "metadata": {
        "colab": {
          "base_uri": "https://localhost:8080/"
        },
        "id": "cqVhRbAxzV2k",
        "outputId": "67d9488b-a8e4-41b4-c023-78131f148bc7"
      },
      "execution_count": 54,
      "outputs": [
        {
          "output_type": "stream",
          "name": "stdout",
          "text": [
            "Drive already mounted at /content/drive; to attempt to forcibly remount, call drive.mount(\"/content/drive\", force_remount=True).\n"
          ]
        }
      ]
    },
    {
      "cell_type": "code",
      "source": [
        "cat='/content/drive/MyDrive/Dataset'\n",
        "type(cat)\n"
      ],
      "metadata": {
        "colab": {
          "base_uri": "https://localhost:8080/"
        },
        "id": "0Ke4Gbdg56Vx",
        "outputId": "ff7c907b-150e-49a3-a58f-eeb1b90939d6"
      },
      "execution_count": 63,
      "outputs": [
        {
          "output_type": "execute_result",
          "data": {
            "text/plain": [
              "str"
            ]
          },
          "metadata": {},
          "execution_count": 63
        }
      ]
    },
    {
      "cell_type": "code",
      "source": [
        "dataset=os.listdir(cat)\n",
        "\n"
      ],
      "metadata": {
        "id": "lEBniOLQze99"
      },
      "execution_count": 64,
      "outputs": []
    },
    {
      "cell_type": "code",
      "source": [
        "lables=[i for i in range(len(dataset))]\n"
      ],
      "metadata": {
        "id": "mN1vaS0Uz-Jf"
      },
      "execution_count": 65,
      "outputs": []
    },
    {
      "cell_type": "code",
      "source": [
        "lables"
      ],
      "metadata": {
        "colab": {
          "base_uri": "https://localhost:8080/"
        },
        "id": "72Pr-snQ0RBj",
        "outputId": "fa317352-925c-47a1-8b58-4e677e382544"
      },
      "execution_count": 66,
      "outputs": [
        {
          "output_type": "execute_result",
          "data": {
            "text/plain": [
              "[0, 1]"
            ]
          },
          "metadata": {},
          "execution_count": 66
        }
      ]
    },
    {
      "cell_type": "code",
      "source": [
        "label_dict=dict(zip(dataset,lables))\n",
        "\n",
        "label_dict"
      ],
      "metadata": {
        "colab": {
          "base_uri": "https://localhost:8080/"
        },
        "id": "CIiOxVPv0dmA",
        "outputId": "de6d0c94-a905-4fcb-e851-dd2de039845d"
      },
      "execution_count": 68,
      "outputs": [
        {
          "output_type": "execute_result",
          "data": {
            "text/plain": [
              "{'Negative': 0, 'Positive': 1}"
            ]
          },
          "metadata": {},
          "execution_count": 68
        }
      ]
    },
    {
      "cell_type": "code",
      "source": [
        "\n",
        "data=[]\n",
        "target=[]\n",
        "for i in dataset:\n",
        "  folder_path =os.path.join(cat,i)\n",
        "  img_names=os.listdir(folder_path)\n",
        "  for img_name in img_names:\n",
        "    img_path=os.path.join(folder_path,img_name)\n",
        "    img=cv2.imread(img_path)\n",
        "    img_resize=cv2.resize(img,(100,100))\n",
        "    data.append(img_resize)\n",
        "    target.append(label_dict[i])\n",
        "    \n",
        "    \n"
      ],
      "metadata": {
        "id": "2HaLxfO701R7"
      },
      "execution_count": 131,
      "outputs": []
    },
    {
      "cell_type": "code",
      "source": [
        "from sklearn.model_selection import train_test_split\n",
        "X_train, X_val, y_train, y_val = train_test_split(data,target, test_size=0.20, random_state=13)\n"
      ],
      "metadata": {
        "id": "q92WMDnRXNSp"
      },
      "execution_count": 145,
      "outputs": []
    },
    {
      "cell_type": "code",
      "source": [
        "import numpy as np\n",
        "X_train=np.array(X_train)\n",
        "X_val=np.array(X_val)\n",
        "y_train=np.array(y_train)\n",
        "y_val=np.array(y_val)\n",
        "\n"
      ],
      "metadata": {
        "id": "GEmJSYnVXNbm"
      },
      "execution_count": 146,
      "outputs": []
    },
    {
      "cell_type": "code",
      "source": [
        "np.save('data',data)\n",
        "np.save('target',target)"
      ],
      "metadata": {
        "id": "amN0kZCAK_zn"
      },
      "execution_count": 150,
      "outputs": []
    },
    {
      "cell_type": "code",
      "source": [
        "from keras.utils import np_utils\n"
      ],
      "metadata": {
        "id": "aYN7xX_ZLOAR"
      },
      "execution_count": 151,
      "outputs": []
    },
    {
      "cell_type": "code",
      "source": [
        "import tensorflow as tf\n",
        "import keras"
      ],
      "metadata": {
        "id": "WBx1gnR4OKmu"
      },
      "execution_count": 153,
      "outputs": []
    },
    {
      "cell_type": "code",
      "source": [
        "KerasModel = keras.models.Sequential([\n",
        "        keras.layers.Conv2D(200,kernel_size=(3,3),activation='relu',input_shape=(100,100,3)),\n",
        "        keras.layers.Conv2D(150,kernel_size=(3,3),activation='relu'),\n",
        "        keras.layers.MaxPool2D(4,4),\n",
        "        keras.layers.Conv2D(120,kernel_size=(3,3),activation='relu'),    \n",
        "        keras.layers.Conv2D(80,kernel_size=(3,3),activation='relu'),    \n",
        "        keras.layers.Conv2D(50,kernel_size=(3,3),activation='relu'),\n",
        "        keras.layers.MaxPool2D(4,4),\n",
        "        keras.layers.Flatten() ,    \n",
        "        keras.layers.Dense(120,activation='relu') ,    \n",
        "        keras.layers.Dense(100,activation='relu') ,    \n",
        "        keras.layers.Dense(50,activation='relu') ,        \n",
        "        keras.layers.Dropout(rate=0.5) ,            \n",
        "        keras.layers.Dense(2,activation='softmax') ,    \n",
        "        ])"
      ],
      "metadata": {
        "id": "OBndGr-fMnlC"
      },
      "execution_count": 157,
      "outputs": []
    },
    {
      "cell_type": "code",
      "source": [
        "KerasModel.compile(optimizer ='adam',loss='sparse_categorical_crossentropy',metrics=['accuracy'])"
      ],
      "metadata": {
        "id": "_WennxxQN8uj"
      },
      "execution_count": 158,
      "outputs": []
    },
    {
      "cell_type": "code",
      "source": [
        "print(KerasModel.summary())"
      ],
      "metadata": {
        "id": "79e40NfnTh7b",
        "outputId": "ebf6dd56-531c-4ed4-f143-2c37ae64a33e",
        "colab": {
          "base_uri": "https://localhost:8080/"
        }
      },
      "execution_count": 159,
      "outputs": [
        {
          "output_type": "stream",
          "name": "stdout",
          "text": [
            "Model: \"sequential_8\"\n",
            "_________________________________________________________________\n",
            " Layer (type)                Output Shape              Param #   \n",
            "=================================================================\n",
            " conv2d_40 (Conv2D)          (None, 98, 98, 200)       5600      \n",
            "                                                                 \n",
            " conv2d_41 (Conv2D)          (None, 96, 96, 150)       270150    \n",
            "                                                                 \n",
            " max_pooling2d_16 (MaxPoolin  (None, 24, 24, 150)      0         \n",
            " g2D)                                                            \n",
            "                                                                 \n",
            " conv2d_42 (Conv2D)          (None, 22, 22, 120)       162120    \n",
            "                                                                 \n",
            " conv2d_43 (Conv2D)          (None, 20, 20, 80)        86480     \n",
            "                                                                 \n",
            " conv2d_44 (Conv2D)          (None, 18, 18, 50)        36050     \n",
            "                                                                 \n",
            " max_pooling2d_17 (MaxPoolin  (None, 4, 4, 50)         0         \n",
            " g2D)                                                            \n",
            "                                                                 \n",
            " flatten_8 (Flatten)         (None, 800)               0         \n",
            "                                                                 \n",
            " dense_32 (Dense)            (None, 120)               96120     \n",
            "                                                                 \n",
            " dense_33 (Dense)            (None, 100)               12100     \n",
            "                                                                 \n",
            " dense_34 (Dense)            (None, 50)                5050      \n",
            "                                                                 \n",
            " dropout_8 (Dropout)         (None, 50)                0         \n",
            "                                                                 \n",
            " dense_35 (Dense)            (None, 2)                 102       \n",
            "                                                                 \n",
            "=================================================================\n",
            "Total params: 673,772\n",
            "Trainable params: 673,772\n",
            "Non-trainable params: 0\n",
            "_________________________________________________________________\n",
            "None\n"
          ]
        }
      ]
    },
    {
      "cell_type": "code",
      "source": [
        "epochs = 50\n",
        "ThisModel = KerasModel.fit(X_train,y_train, epochs=epochs,batch_size=64,verbose=1)\n"
      ],
      "metadata": {
        "id": "R9h9JE_8UiAa",
        "outputId": "f6ebd767-25e0-4909-9c15-ffb6562af7b6",
        "colab": {
          "base_uri": "https://localhost:8080/"
        }
      },
      "execution_count": 160,
      "outputs": [
        {
          "metadata": {
            "tags": null
          },
          "name": "stdout",
          "output_type": "stream",
          "text": [
            "Epoch 1/50\n",
            "1/1 [==============================] - 10s 10s/step - loss: 4.1110 - accuracy: 0.5625\n",
            "Epoch 2/50\n",
            "1/1 [==============================] - 9s 9s/step - loss: 8.8589 - accuracy: 0.3438\n",
            "Epoch 3/50\n",
            "1/1 [==============================] - 9s 9s/step - loss: 13.2083 - accuracy: 0.5938\n",
            "Epoch 4/50\n",
            "1/1 [==============================] - 9s 9s/step - loss: 4.2796 - accuracy: 0.5625\n",
            "Epoch 5/50\n",
            "1/1 [==============================] - 9s 9s/step - loss: 2.9866 - accuracy: 0.5625\n",
            "Epoch 6/50\n",
            "1/1 [==============================] - 9s 9s/step - loss: 3.8049 - accuracy: 0.2812\n",
            "Epoch 7/50\n",
            "1/1 [==============================] - 9s 9s/step - loss: 1.4543 - accuracy: 0.5312\n",
            "Epoch 8/50\n",
            "1/1 [==============================] - 9s 9s/step - loss: 1.0380 - accuracy: 0.5000\n",
            "Epoch 9/50\n",
            "1/1 [==============================] - 9s 9s/step - loss: 0.8733 - accuracy: 0.5938\n",
            "Epoch 10/50\n",
            "1/1 [==============================] - 9s 9s/step - loss: 0.9893 - accuracy: 0.4375\n",
            "Epoch 11/50\n",
            "1/1 [==============================] - 9s 9s/step - loss: 0.8560 - accuracy: 0.5312\n",
            "Epoch 12/50\n",
            "1/1 [==============================] - 9s 9s/step - loss: 0.6685 - accuracy: 0.5938\n",
            "Epoch 13/50\n",
            "1/1 [==============================] - 9s 9s/step - loss: 0.6321 - accuracy: 0.5938\n",
            "Epoch 14/50\n",
            "1/1 [==============================] - 9s 9s/step - loss: 0.5971 - accuracy: 0.6250\n",
            "Epoch 15/50\n",
            "1/1 [==============================] - 9s 9s/step - loss: 0.5482 - accuracy: 0.7500\n",
            "Epoch 16/50\n",
            "1/1 [==============================] - 9s 9s/step - loss: 0.7116 - accuracy: 0.5625\n",
            "Epoch 17/50\n",
            "1/1 [==============================] - 9s 9s/step - loss: 0.5752 - accuracy: 0.7812\n",
            "Epoch 18/50\n",
            "1/1 [==============================] - 9s 9s/step - loss: 0.4859 - accuracy: 0.7812\n",
            "Epoch 19/50\n",
            "1/1 [==============================] - 9s 9s/step - loss: 0.3697 - accuracy: 0.8438\n",
            "Epoch 20/50\n",
            "1/1 [==============================] - 9s 9s/step - loss: 0.3163 - accuracy: 0.9375\n",
            "Epoch 21/50\n",
            "1/1 [==============================] - 9s 9s/step - loss: 0.3576 - accuracy: 0.8438\n",
            "Epoch 22/50\n",
            "1/1 [==============================] - 9s 9s/step - loss: 0.3222 - accuracy: 0.8438\n",
            "Epoch 23/50\n",
            "1/1 [==============================] - 9s 9s/step - loss: 0.5734 - accuracy: 0.6250\n",
            "Epoch 24/50\n",
            "1/1 [==============================] - 9s 9s/step - loss: 0.3664 - accuracy: 0.8750\n",
            "Epoch 25/50\n",
            "1/1 [==============================] - 9s 9s/step - loss: 0.3768 - accuracy: 0.8750\n",
            "Epoch 26/50\n",
            "1/1 [==============================] - 9s 9s/step - loss: 0.2954 - accuracy: 0.8438\n",
            "Epoch 27/50\n",
            "1/1 [==============================] - 9s 9s/step - loss: 0.1764 - accuracy: 0.9375\n",
            "Epoch 28/50\n",
            "1/1 [==============================] - 9s 9s/step - loss: 0.2891 - accuracy: 0.8438\n",
            "Epoch 29/50\n",
            "1/1 [==============================] - 9s 9s/step - loss: 0.2151 - accuracy: 0.9375\n",
            "Epoch 30/50\n",
            "1/1 [==============================] - 9s 9s/step - loss: 0.1580 - accuracy: 0.9375\n",
            "Epoch 31/50\n",
            "1/1 [==============================] - 9s 9s/step - loss: 0.1653 - accuracy: 0.8750\n",
            "Epoch 32/50\n",
            "1/1 [==============================] - 9s 9s/step - loss: 0.2770 - accuracy: 0.8750\n",
            "Epoch 33/50\n",
            "1/1 [==============================] - 9s 9s/step - loss: 0.1474 - accuracy: 0.9062\n",
            "Epoch 34/50\n",
            "1/1 [==============================] - 9s 9s/step - loss: 0.0511 - accuracy: 1.0000\n",
            "Epoch 35/50\n",
            "1/1 [==============================] - 9s 9s/step - loss: 0.0901 - accuracy: 1.0000\n",
            "Epoch 36/50\n",
            "1/1 [==============================] - 9s 9s/step - loss: 0.0797 - accuracy: 1.0000\n",
            "Epoch 37/50\n",
            "1/1 [==============================] - 9s 9s/step - loss: 0.0576 - accuracy: 0.9688\n",
            "Epoch 38/50\n",
            "1/1 [==============================] - 9s 9s/step - loss: 0.0532 - accuracy: 0.9688\n",
            "Epoch 39/50\n",
            "1/1 [==============================] - 9s 9s/step - loss: 0.0364 - accuracy: 1.0000\n",
            "Epoch 40/50\n",
            "1/1 [==============================] - 9s 9s/step - loss: 0.0253 - accuracy: 1.0000\n",
            "Epoch 41/50\n",
            "1/1 [==============================] - 9s 9s/step - loss: 0.0183 - accuracy: 1.0000\n",
            "Epoch 42/50\n",
            "1/1 [==============================] - 9s 9s/step - loss: 0.0318 - accuracy: 1.0000\n",
            "Epoch 43/50\n",
            "1/1 [==============================] - 9s 9s/step - loss: 0.0816 - accuracy: 0.9688\n",
            "Epoch 44/50\n",
            "1/1 [==============================] - 9s 9s/step - loss: 0.0475 - accuracy: 1.0000\n",
            "Epoch 45/50\n",
            "1/1 [==============================] - 9s 9s/step - loss: 0.0644 - accuracy: 0.9688\n",
            "Epoch 46/50\n",
            "1/1 [==============================] - 9s 9s/step - loss: 0.0072 - accuracy: 1.0000\n",
            "Epoch 47/50\n",
            "1/1 [==============================] - 9s 9s/step - loss: 0.1035 - accuracy: 0.9375\n",
            "Epoch 48/50\n",
            "1/1 [==============================] - 9s 9s/step - loss: 0.0023 - accuracy: 1.0000\n",
            "Epoch 49/50\n",
            "1/1 [==============================] - 9s 9s/step - loss: 5.6516e-04 - accuracy: 1.0000\n",
            "Epoch 50/50\n",
            "1/1 [==============================] - 9s 9s/step - loss: 0.1195 - accuracy: 0.9375\n"
          ]
        }
      ]
    },
    {
      "cell_type": "code",
      "source": [
        "ModelLoss, ModelAccuracy = KerasModel.evaluate(X_val, y_val)\n",
        "\n",
        "print('Test Loss is {}'.format(ModelLoss))\n",
        "print('Test Accuracy is {}'.format(ModelAccuracy ))"
      ],
      "metadata": {
        "id": "CksSkzQ4U01D",
        "outputId": "c3685dfe-3435-4d11-e7cb-cc3212a1f579",
        "colab": {
          "base_uri": "https://localhost:8080/"
        }
      },
      "execution_count": 161,
      "outputs": [
        {
          "output_type": "stream",
          "name": "stdout",
          "text": [
            "1/1 [==============================] - 1s 814ms/step - loss: 0.0032 - accuracy: 1.0000\n",
            "Test Loss is 0.0031866426579654217\n",
            "Test Accuracy is 1.0\n"
          ]
        }
      ]
    },
    {
      "cell_type": "code",
      "source": [
        ""
      ],
      "metadata": {
        "id": "yYzGfw4JfP1H"
      },
      "execution_count": null,
      "outputs": []
    }
  ]
}