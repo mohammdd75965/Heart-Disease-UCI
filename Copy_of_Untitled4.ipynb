{
  "cells": [
    {
      "cell_type": "markdown",
      "metadata": {
        "id": "view-in-github",
        "colab_type": "text"
      },
      "source": [
        "<a href=\"https://colab.research.google.com/github/mohammdd75965/Heart-Disease-UCI/blob/main/Copy_of_Untitled4.ipynb\" target=\"_parent\"><img src=\"https://colab.research.google.com/assets/colab-badge.svg\" alt=\"Open In Colab\"/></a>"
      ]
    },
    {
      "cell_type": "code",
      "execution_count": null,
      "metadata": {
        "id": "jPgfY3QA7AE0"
      },
      "outputs": [],
      "source": [
        "import pandas as pd\n",
        "import numpy as np\n",
        "from matplotlib import pyplot as plt\n",
        "import warnings\n",
        "warnings.filterwarnings('ignore')\n",
        "import seaborn as sns\n",
        "tr=pd.read_csv('/content/drive/MyDrive/heart.csv')\n"
      ]
    },
    {
      "cell_type": "code",
      "execution_count": null,
      "metadata": {
        "colab": {
          "base_uri": "https://localhost:8080/",
          "height": 423
        },
        "id": "bNrZls7D8BRz",
        "outputId": "933b35e3-6c61-4e05-ca79-4891477c8ac2"
      },
      "outputs": [
        {
          "output_type": "execute_result",
          "data": {
            "text/html": [
              "<div>\n",
              "<style scoped>\n",
              "    .dataframe tbody tr th:only-of-type {\n",
              "        vertical-align: middle;\n",
              "    }\n",
              "\n",
              "    .dataframe tbody tr th {\n",
              "        vertical-align: top;\n",
              "    }\n",
              "\n",
              "    .dataframe thead th {\n",
              "        text-align: right;\n",
              "    }\n",
              "</style>\n",
              "<table border=\"1\" class=\"dataframe\">\n",
              "  <thead>\n",
              "    <tr style=\"text-align: right;\">\n",
              "      <th></th>\n",
              "      <th>age</th>\n",
              "      <th>sex</th>\n",
              "      <th>cp</th>\n",
              "      <th>trestbps</th>\n",
              "      <th>chol</th>\n",
              "      <th>fbs</th>\n",
              "      <th>restecg</th>\n",
              "      <th>thalach</th>\n",
              "      <th>exang</th>\n",
              "      <th>oldpeak</th>\n",
              "      <th>slope</th>\n",
              "      <th>ca</th>\n",
              "      <th>thal</th>\n",
              "      <th>target</th>\n",
              "    </tr>\n",
              "  </thead>\n",
              "  <tbody>\n",
              "    <tr>\n",
              "      <th>0</th>\n",
              "      <td>63</td>\n",
              "      <td>1</td>\n",
              "      <td>3</td>\n",
              "      <td>145</td>\n",
              "      <td>233</td>\n",
              "      <td>1</td>\n",
              "      <td>0</td>\n",
              "      <td>150</td>\n",
              "      <td>0</td>\n",
              "      <td>2.3</td>\n",
              "      <td>0</td>\n",
              "      <td>0</td>\n",
              "      <td>1</td>\n",
              "      <td>1</td>\n",
              "    </tr>\n",
              "    <tr>\n",
              "      <th>1</th>\n",
              "      <td>37</td>\n",
              "      <td>1</td>\n",
              "      <td>2</td>\n",
              "      <td>130</td>\n",
              "      <td>250</td>\n",
              "      <td>0</td>\n",
              "      <td>1</td>\n",
              "      <td>187</td>\n",
              "      <td>0</td>\n",
              "      <td>3.5</td>\n",
              "      <td>0</td>\n",
              "      <td>0</td>\n",
              "      <td>2</td>\n",
              "      <td>1</td>\n",
              "    </tr>\n",
              "    <tr>\n",
              "      <th>2</th>\n",
              "      <td>41</td>\n",
              "      <td>0</td>\n",
              "      <td>1</td>\n",
              "      <td>130</td>\n",
              "      <td>204</td>\n",
              "      <td>0</td>\n",
              "      <td>0</td>\n",
              "      <td>172</td>\n",
              "      <td>0</td>\n",
              "      <td>1.4</td>\n",
              "      <td>2</td>\n",
              "      <td>0</td>\n",
              "      <td>2</td>\n",
              "      <td>1</td>\n",
              "    </tr>\n",
              "    <tr>\n",
              "      <th>3</th>\n",
              "      <td>56</td>\n",
              "      <td>1</td>\n",
              "      <td>1</td>\n",
              "      <td>120</td>\n",
              "      <td>236</td>\n",
              "      <td>0</td>\n",
              "      <td>1</td>\n",
              "      <td>178</td>\n",
              "      <td>0</td>\n",
              "      <td>0.8</td>\n",
              "      <td>2</td>\n",
              "      <td>0</td>\n",
              "      <td>2</td>\n",
              "      <td>1</td>\n",
              "    </tr>\n",
              "    <tr>\n",
              "      <th>4</th>\n",
              "      <td>57</td>\n",
              "      <td>0</td>\n",
              "      <td>0</td>\n",
              "      <td>120</td>\n",
              "      <td>354</td>\n",
              "      <td>0</td>\n",
              "      <td>1</td>\n",
              "      <td>163</td>\n",
              "      <td>1</td>\n",
              "      <td>0.6</td>\n",
              "      <td>2</td>\n",
              "      <td>0</td>\n",
              "      <td>2</td>\n",
              "      <td>1</td>\n",
              "    </tr>\n",
              "    <tr>\n",
              "      <th>...</th>\n",
              "      <td>...</td>\n",
              "      <td>...</td>\n",
              "      <td>...</td>\n",
              "      <td>...</td>\n",
              "      <td>...</td>\n",
              "      <td>...</td>\n",
              "      <td>...</td>\n",
              "      <td>...</td>\n",
              "      <td>...</td>\n",
              "      <td>...</td>\n",
              "      <td>...</td>\n",
              "      <td>...</td>\n",
              "      <td>...</td>\n",
              "      <td>...</td>\n",
              "    </tr>\n",
              "    <tr>\n",
              "      <th>298</th>\n",
              "      <td>57</td>\n",
              "      <td>0</td>\n",
              "      <td>0</td>\n",
              "      <td>140</td>\n",
              "      <td>241</td>\n",
              "      <td>0</td>\n",
              "      <td>1</td>\n",
              "      <td>123</td>\n",
              "      <td>1</td>\n",
              "      <td>0.2</td>\n",
              "      <td>1</td>\n",
              "      <td>0</td>\n",
              "      <td>3</td>\n",
              "      <td>0</td>\n",
              "    </tr>\n",
              "    <tr>\n",
              "      <th>299</th>\n",
              "      <td>45</td>\n",
              "      <td>1</td>\n",
              "      <td>3</td>\n",
              "      <td>110</td>\n",
              "      <td>264</td>\n",
              "      <td>0</td>\n",
              "      <td>1</td>\n",
              "      <td>132</td>\n",
              "      <td>0</td>\n",
              "      <td>1.2</td>\n",
              "      <td>1</td>\n",
              "      <td>0</td>\n",
              "      <td>3</td>\n",
              "      <td>0</td>\n",
              "    </tr>\n",
              "    <tr>\n",
              "      <th>300</th>\n",
              "      <td>68</td>\n",
              "      <td>1</td>\n",
              "      <td>0</td>\n",
              "      <td>144</td>\n",
              "      <td>193</td>\n",
              "      <td>1</td>\n",
              "      <td>1</td>\n",
              "      <td>141</td>\n",
              "      <td>0</td>\n",
              "      <td>3.4</td>\n",
              "      <td>1</td>\n",
              "      <td>2</td>\n",
              "      <td>3</td>\n",
              "      <td>0</td>\n",
              "    </tr>\n",
              "    <tr>\n",
              "      <th>301</th>\n",
              "      <td>57</td>\n",
              "      <td>1</td>\n",
              "      <td>0</td>\n",
              "      <td>130</td>\n",
              "      <td>131</td>\n",
              "      <td>0</td>\n",
              "      <td>1</td>\n",
              "      <td>115</td>\n",
              "      <td>1</td>\n",
              "      <td>1.2</td>\n",
              "      <td>1</td>\n",
              "      <td>1</td>\n",
              "      <td>3</td>\n",
              "      <td>0</td>\n",
              "    </tr>\n",
              "    <tr>\n",
              "      <th>302</th>\n",
              "      <td>57</td>\n",
              "      <td>0</td>\n",
              "      <td>1</td>\n",
              "      <td>130</td>\n",
              "      <td>236</td>\n",
              "      <td>0</td>\n",
              "      <td>0</td>\n",
              "      <td>174</td>\n",
              "      <td>0</td>\n",
              "      <td>0.0</td>\n",
              "      <td>1</td>\n",
              "      <td>1</td>\n",
              "      <td>2</td>\n",
              "      <td>0</td>\n",
              "    </tr>\n",
              "  </tbody>\n",
              "</table>\n",
              "<p>303 rows × 14 columns</p>\n",
              "</div>"
            ],
            "text/plain": [
              "     age  sex  cp  trestbps  chol  fbs  ...  exang  oldpeak  slope  ca  thal  target\n",
              "0     63    1   3       145   233    1  ...      0      2.3      0   0     1       1\n",
              "1     37    1   2       130   250    0  ...      0      3.5      0   0     2       1\n",
              "2     41    0   1       130   204    0  ...      0      1.4      2   0     2       1\n",
              "3     56    1   1       120   236    0  ...      0      0.8      2   0     2       1\n",
              "4     57    0   0       120   354    0  ...      1      0.6      2   0     2       1\n",
              "..   ...  ...  ..       ...   ...  ...  ...    ...      ...    ...  ..   ...     ...\n",
              "298   57    0   0       140   241    0  ...      1      0.2      1   0     3       0\n",
              "299   45    1   3       110   264    0  ...      0      1.2      1   0     3       0\n",
              "300   68    1   0       144   193    1  ...      0      3.4      1   2     3       0\n",
              "301   57    1   0       130   131    0  ...      1      1.2      1   1     3       0\n",
              "302   57    0   1       130   236    0  ...      0      0.0      1   1     2       0\n",
              "\n",
              "[303 rows x 14 columns]"
            ]
          },
          "metadata": {},
          "execution_count": 91
        }
      ],
      "source": [
        "tr"
      ]
    },
    {
      "cell_type": "code",
      "execution_count": null,
      "metadata": {
        "colab": {
          "base_uri": "https://localhost:8080/",
          "height": 338
        },
        "id": "VL1TmQiWI05b",
        "outputId": "39015ae5-7121-408d-b51f-1d566adf34d4"
      },
      "outputs": [
        {
          "output_type": "execute_result",
          "data": {
            "text/plain": [
              "[<matplotlib.lines.Line2D at 0x7f5e258c99d0>]"
            ]
          },
          "metadata": {},
          "execution_count": 92
        },
        {
          "output_type": "display_data",
          "data": {
            "image/png": "[encoded data removed]",
            "text/plain": [
              "<Figure size 360x360 with 1 Axes>"
            ]
          },
          "metadata": {
            "needs_background": "light"
          }
        }
      ],
      "source": [
        "def sigmoid(x):\n",
        "    return 1/(1 + np.exp(-x))\n",
        "nums = np.arange(-10, 10, step=1)\n",
        "\n",
        "fig, ax = plt.subplots(figsize=(5,5))\n",
        "ax.plot(nums, sigmoid(nums), 'r')\n"
      ]
    },
    {
      "cell_type": "code",
      "execution_count": null,
      "metadata": {
        "id": "eQWbbgSiRDQ1",
        "colab": {
          "base_uri": "https://localhost:8080/",
          "height": 53
        },
        "outputId": "d9b355d1-7799-48e0-e2af-ec86176131fc"
      },
      "outputs": [
        {
          "output_type": "execute_result",
          "data": {
            "application/vnd.google.colaboratory.intrinsic+json": {
              "type": "string"
            },
            "text/plain": [
              "'def cost(theta, X, y):\\n    theta = np.matrix(theta)\\n    X = np.matrix(X)\\n    y = np.matrix(y)\\n    first = np.multiply(-y, np.log(sigmoid(X * theta.T)))\\n    second = np.multiply((1 - y), np.log(1 - sigmoid(X * theta.T)))\\n    return np.sum(first - second) / (len(X))\\n'"
            ]
          },
          "metadata": {},
          "execution_count": 93
        }
      ],
      "source": [
        "'''def cost(theta, X, y):\n",
        "    theta = np.matrix(theta)\n",
        "    X = np.matrix(X)\n",
        "    y = np.matrix(y)\n",
        "    first = np.multiply(-y, np.log(sigmoid(X * theta.T)))\n",
        "    second = np.multiply((1 - y), np.log(1 - sigmoid(X * theta.T)))\n",
        "    return np.sum(first - second) / (len(X))\n",
        "'''"
      ]
    },
    {
      "cell_type": "code",
      "source": [
        "tr.drop(['age','sex','cp','fbs','restecg','exang','slope','ca','thal'],axis=1,inplace=True)\n"
      ],
      "metadata": {
        "id": "rAm5jHZ1HMhm"
      },
      "execution_count": null,
      "outputs": []
    },
    {
      "cell_type": "code",
      "source": [
        "tr"
      ],
      "metadata": {
        "colab": {
          "base_uri": "https://localhost:8080/",
          "height": 423
        },
        "id": "GGmNpFshIxaz",
        "outputId": "69cf1760-7645-4b92-d818-1f5f4b205917"
      },
      "execution_count": null,
      "outputs": [
        {
          "output_type": "execute_result",
          "data": {
            "text/html": [
              "<div>\n",
              "<style scoped>\n",
              "    .dataframe tbody tr th:only-of-type {\n",
              "        vertical-align: middle;\n",
              "    }\n",
              "\n",
              "    .dataframe tbody tr th {\n",
              "        vertical-align: top;\n",
              "    }\n",
              "\n",
              "    .dataframe thead th {\n",
              "        text-align: right;\n",
              "    }\n",
              "</style>\n",
              "<table border=\"1\" class=\"dataframe\">\n",
              "  <thead>\n",
              "    <tr style=\"text-align: right;\">\n",
              "      <th></th>\n",
              "      <th>trestbps</th>\n",
              "      <th>chol</th>\n",
              "      <th>thalach</th>\n",
              "      <th>oldpeak</th>\n",
              "      <th>target</th>\n",
              "    </tr>\n",
              "  </thead>\n",
              "  <tbody>\n",
              "    <tr>\n",
              "      <th>0</th>\n",
              "      <td>145</td>\n",
              "      <td>233</td>\n",
              "      <td>150</td>\n",
              "      <td>2.3</td>\n",
              "      <td>1</td>\n",
              "    </tr>\n",
              "    <tr>\n",
              "      <th>1</th>\n",
              "      <td>130</td>\n",
              "      <td>250</td>\n",
              "      <td>187</td>\n",
              "      <td>3.5</td>\n",
              "      <td>1</td>\n",
              "    </tr>\n",
              "    <tr>\n",
              "      <th>2</th>\n",
              "      <td>130</td>\n",
              "      <td>204</td>\n",
              "      <td>172</td>\n",
              "      <td>1.4</td>\n",
              "      <td>1</td>\n",
              "    </tr>\n",
              "    <tr>\n",
              "      <th>3</th>\n",
              "      <td>120</td>\n",
              "      <td>236</td>\n",
              "      <td>178</td>\n",
              "      <td>0.8</td>\n",
              "      <td>1</td>\n",
              "    </tr>\n",
              "    <tr>\n",
              "      <th>4</th>\n",
              "      <td>120</td>\n",
              "      <td>354</td>\n",
              "      <td>163</td>\n",
              "      <td>0.6</td>\n",
              "      <td>1</td>\n",
              "    </tr>\n",
              "    <tr>\n",
              "      <th>...</th>\n",
              "      <td>...</td>\n",
              "      <td>...</td>\n",
              "      <td>...</td>\n",
              "      <td>...</td>\n",
              "      <td>...</td>\n",
              "    </tr>\n",
              "    <tr>\n",
              "      <th>298</th>\n",
              "      <td>140</td>\n",
              "      <td>241</td>\n",
              "      <td>123</td>\n",
              "      <td>0.2</td>\n",
              "      <td>0</td>\n",
              "    </tr>\n",
              "    <tr>\n",
              "      <th>299</th>\n",
              "      <td>110</td>\n",
              "      <td>264</td>\n",
              "      <td>132</td>\n",
              "      <td>1.2</td>\n",
              "      <td>0</td>\n",
              "    </tr>\n",
              "    <tr>\n",
              "      <th>300</th>\n",
              "      <td>144</td>\n",
              "      <td>193</td>\n",
              "      <td>141</td>\n",
              "      <td>3.4</td>\n",
              "      <td>0</td>\n",
              "    </tr>\n",
              "    <tr>\n",
              "      <th>301</th>\n",
              "      <td>130</td>\n",
              "      <td>131</td>\n",
              "      <td>115</td>\n",
              "      <td>1.2</td>\n",
              "      <td>0</td>\n",
              "    </tr>\n",
              "    <tr>\n",
              "      <th>302</th>\n",
              "      <td>130</td>\n",
              "      <td>236</td>\n",
              "      <td>174</td>\n",
              "      <td>0.0</td>\n",
              "      <td>0</td>\n",
              "    </tr>\n",
              "  </tbody>\n",
              "</table>\n",
              "<p>303 rows × 5 columns</p>\n",
              "</div>"
            ],
            "text/plain": [
              "     trestbps  chol  thalach  oldpeak  target\n",
              "0         145   233      150      2.3       1\n",
              "1         130   250      187      3.5       1\n",
              "2         130   204      172      1.4       1\n",
              "3         120   236      178      0.8       1\n",
              "4         120   354      163      0.6       1\n",
              "..        ...   ...      ...      ...     ...\n",
              "298       140   241      123      0.2       0\n",
              "299       110   264      132      1.2       0\n",
              "300       144   193      141      3.4       0\n",
              "301       130   131      115      1.2       0\n",
              "302       130   236      174      0.0       0\n",
              "\n",
              "[303 rows x 5 columns]"
            ]
          },
          "metadata": {},
          "execution_count": 95
        }
      ]
    },
    {
      "cell_type": "code",
      "source": [
        "X=tr.iloc[:,:-1]"
      ],
      "metadata": {
        "id": "5U3cMN6tOijv"
      },
      "execution_count": null,
      "outputs": []
    },
    {
      "cell_type": "code",
      "source": [
        "X"
      ],
      "metadata": {
        "colab": {
          "base_uri": "https://localhost:8080/",
          "height": 423
        },
        "id": "hB2XUoOOPnpX",
        "outputId": "2ab942ca-1bc1-47e3-944e-b6d997955341"
      },
      "execution_count": null,
      "outputs": [
        {
          "output_type": "execute_result",
          "data": {
            "text/html": [
              "<div>\n",
              "<style scoped>\n",
              "    .dataframe tbody tr th:only-of-type {\n",
              "        vertical-align: middle;\n",
              "    }\n",
              "\n",
              "    .dataframe tbody tr th {\n",
              "        vertical-align: top;\n",
              "    }\n",
              "\n",
              "    .dataframe thead th {\n",
              "        text-align: right;\n",
              "    }\n",
              "</style>\n",
              "<table border=\"1\" class=\"dataframe\">\n",
              "  <thead>\n",
              "    <tr style=\"text-align: right;\">\n",
              "      <th></th>\n",
              "      <th>trestbps</th>\n",
              "      <th>chol</th>\n",
              "      <th>thalach</th>\n",
              "      <th>oldpeak</th>\n",
              "    </tr>\n",
              "  </thead>\n",
              "  <tbody>\n",
              "    <tr>\n",
              "      <th>0</th>\n",
              "      <td>145</td>\n",
              "      <td>233</td>\n",
              "      <td>150</td>\n",
              "      <td>2.3</td>\n",
              "    </tr>\n",
              "    <tr>\n",
              "      <th>1</th>\n",
              "      <td>130</td>\n",
              "      <td>250</td>\n",
              "      <td>187</td>\n",
              "      <td>3.5</td>\n",
              "    </tr>\n",
              "    <tr>\n",
              "      <th>2</th>\n",
              "      <td>130</td>\n",
              "      <td>204</td>\n",
              "      <td>172</td>\n",
              "      <td>1.4</td>\n",
              "    </tr>\n",
              "    <tr>\n",
              "      <th>3</th>\n",
              "      <td>120</td>\n",
              "      <td>236</td>\n",
              "      <td>178</td>\n",
              "      <td>0.8</td>\n",
              "    </tr>\n",
              "    <tr>\n",
              "      <th>4</th>\n",
              "      <td>120</td>\n",
              "      <td>354</td>\n",
              "      <td>163</td>\n",
              "      <td>0.6</td>\n",
              "    </tr>\n",
              "    <tr>\n",
              "      <th>...</th>\n",
              "      <td>...</td>\n",
              "      <td>...</td>\n",
              "      <td>...</td>\n",
              "      <td>...</td>\n",
              "    </tr>\n",
              "    <tr>\n",
              "      <th>298</th>\n",
              "      <td>140</td>\n",
              "      <td>241</td>\n",
              "      <td>123</td>\n",
              "      <td>0.2</td>\n",
              "    </tr>\n",
              "    <tr>\n",
              "      <th>299</th>\n",
              "      <td>110</td>\n",
              "      <td>264</td>\n",
              "      <td>132</td>\n",
              "      <td>1.2</td>\n",
              "    </tr>\n",
              "    <tr>\n",
              "      <th>300</th>\n",
              "      <td>144</td>\n",
              "      <td>193</td>\n",
              "      <td>141</td>\n",
              "      <td>3.4</td>\n",
              "    </tr>\n",
              "    <tr>\n",
              "      <th>301</th>\n",
              "      <td>130</td>\n",
              "      <td>131</td>\n",
              "      <td>115</td>\n",
              "      <td>1.2</td>\n",
              "    </tr>\n",
              "    <tr>\n",
              "      <th>302</th>\n",
              "      <td>130</td>\n",
              "      <td>236</td>\n",
              "      <td>174</td>\n",
              "      <td>0.0</td>\n",
              "    </tr>\n",
              "  </tbody>\n",
              "</table>\n",
              "<p>303 rows × 4 columns</p>\n",
              "</div>"
            ],
            "text/plain": [
              "     trestbps  chol  thalach  oldpeak\n",
              "0         145   233      150      2.3\n",
              "1         130   250      187      3.5\n",
              "2         130   204      172      1.4\n",
              "3         120   236      178      0.8\n",
              "4         120   354      163      0.6\n",
              "..        ...   ...      ...      ...\n",
              "298       140   241      123      0.2\n",
              "299       110   264      132      1.2\n",
              "300       144   193      141      3.4\n",
              "301       130   131      115      1.2\n",
              "302       130   236      174      0.0\n",
              "\n",
              "[303 rows x 4 columns]"
            ]
          },
          "metadata": {},
          "execution_count": 97
        }
      ]
    },
    {
      "cell_type": "code",
      "source": [
        "y=tr.iloc[:,-1]\n",
        "y"
      ],
      "metadata": {
        "colab": {
          "base_uri": "https://localhost:8080/"
        },
        "id": "AdTop1w4PtHm",
        "outputId": "ca2326eb-ac45-4c2d-8370-5427fa7c356d"
      },
      "execution_count": null,
      "outputs": [
        {
          "output_type": "execute_result",
          "data": {
            "text/plain": [
              "0      1\n",
              "1      1\n",
              "2      1\n",
              "3      1\n",
              "4      1\n",
              "      ..\n",
              "298    0\n",
              "299    0\n",
              "300    0\n",
              "301    0\n",
              "302    0\n",
              "Name: target, Length: 303, dtype: int64"
            ]
          },
          "metadata": {},
          "execution_count": 98
        }
      ]
    },
    {
      "cell_type": "code",
      "source": [
        "from sklearn.model_selection import train_test_split\n",
        "X = (X - np.min(X)) / (np.max(X) - np.min(X)).values"
      ],
      "metadata": {
        "id": "xlZAngTEFS9P"
      },
      "execution_count": null,
      "outputs": []
    },
    {
      "cell_type": "code",
      "execution_count": null,
      "metadata": {
        "id": "d2WBEtwT4EAg"
      },
      "outputs": [],
      "source": [
        "X_train, X_test, y_train, y_test = train_test_split(X, y, test_size=0.20, shuffle =True)"
      ]
    },
    {
      "cell_type": "code",
      "source": [
        "X_train.shape,X_test.shape,y_train.shape,y_test.shape\n",
        "\n",
        "from sklearn.linear_model import LogisticRegression\n",
        "log = LogisticRegression()\n",
        "log.fit(X_train, y_train)\n",
        "\n",
        "# Predicting the Test set results\n",
        "y_pred = log.predict(X_test)\n",
        "print('LogisticRegression Train Score is : ' , log.score(X_train, y_train))\n",
        "print('LogisticRegression Test Score is : ' , log.score(X_test, y_test))\n",
        "from sklearn.metrics import confusion_matrix\n",
        "cm = confusion_matrix(y_test, y_pred)\n",
        "cm\n"
      ],
      "metadata": {
        "id": "G9jecA5tRR_Q",
        "outputId": "3b624eee-79d7-4b67-cfc8-f2ce927b88b3",
        "colab": {
          "base_uri": "https://localhost:8080/"
        }
      },
      "execution_count": null,
      "outputs": [
        {
          "output_type": "stream",
          "name": "stdout",
          "text": [
            "LogisticRegression Train Score is :  0.768595041322314\n",
            "LogisticRegression Test Score is :  0.6229508196721312\n"
          ]
        },
        {
          "output_type": "execute_result",
          "data": {
            "text/plain": [
              "array([[15, 16],\n",
              "       [ 7, 23]])"
            ]
          },
          "metadata": {},
          "execution_count": 101
        }
      ]
    },
    {
      "cell_type": "code",
      "source": [
        "from sklearn.metrics import mean_absolute_error\n",
        "mean_absolute_error(y_test, y_pred)"
      ],
      "metadata": {
        "id": "xw5r5mCrY-Sk",
        "outputId": "88628425-8767-4802-d833-3deefe69ce88",
        "colab": {
          "base_uri": "https://localhost:8080/"
        }
      },
      "execution_count": null,
      "outputs": [
        {
          "output_type": "execute_result",
          "data": {
            "text/plain": [
              "0.3770491803278688"
            ]
          },
          "metadata": {},
          "execution_count": 102
        }
      ]
    },
    {
      "cell_type": "code",
      "source": [
        "from sklearn.metrics import median_absolute_error\n",
        "median_absolute_error(y_test, y_pred)"
      ],
      "metadata": {
        "id": "xvZOl1XuZE_O",
        "outputId": "110d95e1-c92b-4bff-9618-38d75c915f5b",
        "colab": {
          "base_uri": "https://localhost:8080/"
        }
      },
      "execution_count": null,
      "outputs": [
        {
          "output_type": "execute_result",
          "data": {
            "text/plain": [
              "0.0"
            ]
          },
          "metadata": {},
          "execution_count": 103
        }
      ]
    },
    {
      "cell_type": "code",
      "source": [
        "from sklearn.metrics import f1_score\n",
        "f1_score(y_test, y_pred, average='micro')"
      ],
      "metadata": {
        "id": "np6YQR0MZI5l",
        "outputId": "d7093060-39df-49bf-e49e-a5b61f1588ea",
        "colab": {
          "base_uri": "https://localhost:8080/"
        }
      },
      "execution_count": null,
      "outputs": [
        {
          "output_type": "execute_result",
          "data": {
            "text/plain": [
              "0.6229508196721312"
            ]
          },
          "metadata": {},
          "execution_count": 104
        }
      ]
    },
    {
      "cell_type": "code",
      "source": [
        "X_train=X_train.values\n",
        "y_train = y_train.values\n",
        "X_test = X_test.values\n",
        "y_test = y_test.values\n"
      ],
      "metadata": {
        "id": "v_cJyK4kRoh8"
      },
      "execution_count": null,
      "outputs": []
    },
    {
      "cell_type": "code",
      "source": [
        ""
      ],
      "metadata": {
        "id": "laguaieIZD0f"
      },
      "execution_count": null,
      "outputs": []
    },
    {
      "cell_type": "code",
      "source": [
        "X_train"
      ],
      "metadata": {
        "id": "sVWiDGrkSOc0",
        "outputId": "a2137cf6-0516-4ca9-9289-adf8c8b5735e",
        "colab": {
          "base_uri": "https://localhost:8080/"
        }
      },
      "execution_count": null,
      "outputs": [
        {
          "output_type": "execute_result",
          "data": {
            "text/plain": [
              "array([[0.52830189, 0.27625571, 0.76335878, 0.24193548],\n",
              "       [0.41509434, 0.38356164, 0.26717557, 0.30645161],\n",
              "       [0.24528302, 0.32648402, 0.38167939, 0.03225806],\n",
              "       [0.41509434, 0.26712329, 0.61832061, 0.        ],\n",
              "       [0.62264151, 0.2739726 , 0.3740458 , 0.        ],\n",
              "       [0.50943396, 0.17579909, 0.6870229 , 0.        ],\n",
              "       [0.35849057, 0.51826484, 0.46564885, 0.19354839],\n",
              "       [0.33962264, 0.16210046, 0.61832061, 0.19354839],\n",
              "       [0.32075472, 0.20547945, 0.33587786, 0.        ],\n",
              "       [0.33962264, 0.16210046, 0.45801527, 0.09677419],\n",
              "       [0.43396226, 0.19406393, 0.71755725, 0.        ],\n",
              "       [0.24528302, 0.38584475, 0.65648855, 0.09677419],\n",
              "       [0.71698113, 0.456621  , 0.52671756, 0.5483871 ],\n",
              "       [0.58490566, 0.2716895 , 0.54961832, 0.        ],\n",
              "       [0.16981132, 0.37442922, 0.6259542 , 0.        ],\n",
              "       [0.24528302, 0.23515982, 0.44274809, 0.41935484],\n",
              "       [0.43396226, 0.44520548, 0.84732824, 0.        ],\n",
              "       [0.43396226, 0.61187215, 0.65648855, 0.19354839],\n",
              "       [0.73584906, 0.16666667, 0.69465649, 0.08064516],\n",
              "       [0.52830189, 0.34246575, 0.3129771 , 0.09677419],\n",
              "       [0.24528302, 0.11643836, 0.3740458 , 0.40322581],\n",
              "       [0.24528302, 0.26027397, 0.7480916 , 0.        ],\n",
              "       [0.52830189, 0.2260274 , 0.32824427, 0.16129032],\n",
              "       [0.37735849, 0.64611872, 0.60305344, 0.30645161],\n",
              "       [0.26415094, 0.21917808, 0.8778626 , 0.        ],\n",
              "       [0.54716981, 0.39269406, 0.81679389, 0.19354839],\n",
              "       [0.22641509, 0.19178082, 0.92366412, 0.11290323],\n",
              "       [0.32075472, 0.30365297, 0.45038168, 0.48387097],\n",
              "       [0.24528302, 0.36073059, 0.67938931, 0.29032258],\n",
              "       [0.19811321, 1.        , 0.67938931, 0.25806452],\n",
              "       [0.54716981, 0.22146119, 0.83969466, 0.        ],\n",
              "       [0.43396226, 0.13926941, 0.55725191, 0.64516129],\n",
              "       [0.81132075, 0.33789954, 0.60305344, 0.25806452],\n",
              "       [0.41509434, 0.29908676, 0.64885496, 0.        ],\n",
              "       [0.41509434, 0.24657534, 0.67938931, 0.        ],\n",
              "       [0.1509434 , 0.11187215, 0.39694656, 0.09677419],\n",
              "       [0.38679245, 0.24657534, 0.6870229 , 0.08064516],\n",
              "       [0.33962264, 0.24429224, 0.82442748, 0.06451613],\n",
              "       [0.43396226, 0.38356164, 0.6259542 , 0.20967742],\n",
              "       [0.24528302, 0.48858447, 0.77099237, 0.        ],\n",
              "       [0.79245283, 0.23287671, 0.71755725, 0.16129032],\n",
              "       [0.29245283, 0.19634703, 0.74045802, 0.16129032],\n",
              "       [0.43396226, 0.16666667, 0.81679389, 0.22580645],\n",
              "       [0.43396226, 0.42237443, 0.3740458 , 0.29032258],\n",
              "       [0.28301887, 0.18949772, 0.70229008, 0.        ],\n",
              "       [0.43396226, 0.25799087, 0.61068702, 0.29032258],\n",
              "       [0.52830189, 0.32876712, 0.30534351, 0.12903226],\n",
              "       [0.16981132, 0.17808219, 0.54961832, 0.01612903],\n",
              "       [0.1509434 , 0.10502283, 0.66412214, 0.        ],\n",
              "       [0.62264151, 0.40182648, 0.69465649, 0.06451613],\n",
              "       [0.43396226, 0.20776256, 0.30534351, 0.90322581],\n",
              "       [0.33962264, 0.43150685, 0.69465649, 0.30645161],\n",
              "       [0.33962264, 0.31050228, 0.64122137, 0.        ],\n",
              "       [0.45283019, 0.11643836, 0.67938931, 0.22580645],\n",
              "       [0.54716981, 0.19634703, 0.60305344, 0.12903226],\n",
              "       [0.10377358, 0.26027397, 0.63358779, 0.09677419],\n",
              "       [0.24528302, 0.26940639, 0.69465649, 0.17741935],\n",
              "       [0.28301887, 0.16210046, 0.49618321, 0.        ],\n",
              "       [0.39622642, 0.15981735, 0.7480916 , 0.01612903],\n",
              "       [0.24528302, 0.19406393, 0.33587786, 0.24193548],\n",
              "       [0.38679245, 0.40639269, 0.75572519, 0.        ],\n",
              "       [0.24528302, 0.28082192, 0.55725191, 0.12903226],\n",
              "       [0.41509434, 0.22146119, 0.7480916 , 0.        ],\n",
              "       [0.29245283, 0.39726027, 0.76335878, 0.        ],\n",
              "       [0.24528302, 0.16438356, 0.45038168, 0.25806452],\n",
              "       [0.35849057, 0.49086758, 0.49618321, 0.48387097],\n",
              "       [0.62264151, 0.53424658, 0.61068702, 0.12903226],\n",
              "       [0.62264151, 0.33561644, 0.41221374, 0.        ],\n",
              "       [0.33962264, 0.12328767, 0.60305344, 0.        ],\n",
              "       [0.79245283, 0.32876712, 0.5648855 , 0.67741935],\n",
              "       [0.24528302, 0.30136986, 0.58015267, 0.06451613],\n",
              "       [0.24528302, 0.20319635, 0.75572519, 0.        ],\n",
              "       [0.33962264, 0.17808219, 1.        , 0.        ],\n",
              "       [0.43396226, 0.15068493, 0.58778626, 0.06451613],\n",
              "       [0.33962264, 0.46575342, 0.46564885, 0.29032258],\n",
              "       [0.43396226, 0.38127854, 0.75572519, 0.19354839],\n",
              "       [0.33962264, 0.17808219, 0.77099237, 0.22580645],\n",
              "       [0.48113208, 0.10958904, 0.41221374, 0.41935484],\n",
              "       [0.38679245, 0.29223744, 0.42748092, 0.4516129 ],\n",
              "       [0.33962264, 0.1826484 , 0.46564885, 0.38709677],\n",
              "       [0.19811321, 0.30593607, 0.87022901, 0.        ],\n",
              "       [0.10377358, 0.17808219, 0.77099237, 0.        ],\n",
              "       [0.43396226, 0.29223744, 0.57251908, 0.32258065],\n",
              "       [0.24528302, 0.07077626, 0.84732824, 0.        ],\n",
              "       [0.33962264, 0.4086758 , 0.54198473, 0.19354839],\n",
              "       [0.1509434 , 0.47716895, 0.54961832, 0.48387097],\n",
              "       [0.52830189, 0.26940639, 0.63358779, 0.22580645],\n",
              "       [0.71698113, 0.36986301, 0.67175573, 0.03225806],\n",
              "       [0.33962264, 0.24657534, 0.79389313, 0.09677419],\n",
              "       [0.38679245, 0.28310502, 0.6870229 , 0.22580645],\n",
              "       [0.28301887, 0.3196347 , 0.29007634, 0.35483871],\n",
              "       [0.22641509, 0.26484018, 0.59541985, 0.0483871 ],\n",
              "       [0.43396226, 0.18493151, 0.51145038, 0.30645161],\n",
              "       [0.24528302, 0.40182648, 0.61068702, 0.06451613],\n",
              "       [0.35849057, 0.18493151, 0.74045802, 0.        ],\n",
              "       [0.11320755, 0.22146119, 0.54198473, 0.0483871 ],\n",
              "       [0.41509434, 0.0913242 , 0.41221374, 0.58064516],\n",
              "       [0.43396226, 0.39497717, 0.77862595, 0.25806452],\n",
              "       [0.33962264, 0.25114155, 0.78625954, 0.        ],\n",
              "       [0.41509434, 0.11187215, 0.77862595, 0.        ],\n",
              "       [0.24528302, 0.38584475, 0.69465649, 0.        ],\n",
              "       [0.43396226, 0.11643836, 0.69465649, 0.        ],\n",
              "       [0.26415094, 0.19863014, 0.71755725, 0.03225806],\n",
              "       [0.24528302, 0.09817352, 0.55725191, 0.4516129 ],\n",
              "       [0.49056604, 0.34703196, 0.61832061, 0.        ],\n",
              "       [0.48113208, 0.35616438, 0.54198473, 0.4516129 ],\n",
              "       [0.24528302, 0.4543379 , 0.77099237, 0.03225806],\n",
              "       [0.52830189, 0.64155251, 0.63358779, 0.64516129],\n",
              "       [0.24528302, 0.26027397, 0.9389313 , 0.12903226],\n",
              "       [1.        , 0.36986301, 0.47328244, 0.64516129],\n",
              "       [0.24528302, 0.23972603, 0.84732824, 0.61290323],\n",
              "       [0.33962264, 0.29223744, 0.58015267, 0.22580645],\n",
              "       [0.32075472, 0.1803653 , 0.86259542, 0.        ],\n",
              "       [0.33962264, 0.29680365, 0.59541985, 0.08064516],\n",
              "       [0.29245283, 0.2716895 , 0.72519084, 0.38709677],\n",
              "       [0.32075472, 0.1803653 , 0.45038168, 0.32258065],\n",
              "       [0.35849057, 0.49315068, 0.72519084, 0.19354839],\n",
              "       [0.35849057, 0.27625571, 0.54961832, 0.01612903],\n",
              "       [0.48113208, 0.24429224, 0.60305344, 0.37096774],\n",
              "       [0.16981132, 0.23744292, 0.71755725, 0.40322581],\n",
              "       [0.27358491, 0.35616438, 0.18320611, 0.32258065],\n",
              "       [0.30188679, 0.4109589 , 0.70229008, 0.        ],\n",
              "       [0.52830189, 0.        , 0.77862595, 0.03225806],\n",
              "       [0.47169811, 0.15296804, 0.53435115, 0.5483871 ],\n",
              "       [0.05660377, 0.21917808, 0.54961832, 0.19354839],\n",
              "       [0.33962264, 0.34018265, 0.51908397, 0.03225806],\n",
              "       [0.16981132, 0.28310502, 0.82442748, 0.        ],\n",
              "       [0.32075472, 0.31278539, 0.25954198, 0.03225806],\n",
              "       [0.16981132, 0.05251142, 0.41221374, 0.25806452],\n",
              "       [0.32075472, 0.17808219, 0.64885496, 0.16129032],\n",
              "       [0.43396226, 0.30821918, 0.8778626 , 0.        ],\n",
              "       [0.37735849, 0.24657534, 0.5648855 , 0.41935484],\n",
              "       [0.13207547, 0.24429224, 0.58015267, 0.01612903],\n",
              "       [0.33962264, 0.20091324, 0.74045802, 0.32258065],\n",
              "       [0.43396226, 0.32420091, 0.67938931, 0.58064516],\n",
              "       [0.28301887, 0.30821918, 0.53435115, 0.0483871 ],\n",
              "       [0.45283019, 0.41780822, 0.58015267, 0.        ],\n",
              "       [0.48113208, 0.41324201, 0.57251908, 0.16129032],\n",
              "       [0.24528302, 0.14155251, 0.51908397, 0.32258065],\n",
              "       [0.        , 0.23059361, 0.63358779, 0.        ],\n",
              "       [0.24528302, 0.21232877, 0.66412214, 0.25806452],\n",
              "       [0.37735849, 0.17123288, 0.66412214, 0.12903226],\n",
              "       [0.52830189, 0.35844749, 0.69465649, 0.16129032],\n",
              "       [0.75471698, 0.28082192, 0.54961832, 0.        ],\n",
              "       [0.33962264, 0.44748858, 0.29007634, 0.38709677],\n",
              "       [0.1509434 , 0.20091324, 0.66412214, 0.25806452],\n",
              "       [0.62264151, 0.32648402, 0.3129771 , 0.46774194],\n",
              "       [0.32075472, 0.18721461, 0.52671756, 0.        ],\n",
              "       [0.33962264, 0.3196347 , 0.76335878, 0.09677419],\n",
              "       [0.24528302, 0.32191781, 0.21374046, 0.29032258],\n",
              "       [0.33962264, 0.2739726 , 0.77862595, 0.        ],\n",
              "       [0.05660377, 0.27853881, 0.38931298, 0.16129032],\n",
              "       [0.33018868, 0.15981735, 0.70229008, 0.        ],\n",
              "       [0.22641509, 0.21232877, 0.52671756, 0.19354839],\n",
              "       [0.66981132, 0.37214612, 0.40458015, 0.16129032],\n",
              "       [0.5754717 , 0.32648402, 0.58778626, 0.12903226],\n",
              "       [0.81132075, 0.45890411, 0.35114504, 0.5483871 ],\n",
              "       [0.32075472, 0.29452055, 0.6870229 , 0.        ],\n",
              "       [0.52830189, 0.26712329, 0.50381679, 0.16129032],\n",
              "       [0.33962264, 0.01141553, 0.33587786, 0.19354839],\n",
              "       [0.33962264, 0.28310502, 0.88549618, 0.56451613],\n",
              "       [0.49056604, 0.21004566, 0.25954198, 0.32258065],\n",
              "       [0.22641509, 0.34474886, 0.61068702, 0.16129032],\n",
              "       [0.43396226, 0.39269406, 0.38931298, 0.67741935],\n",
              "       [0.10377358, 0.16438356, 0.74045802, 0.        ],\n",
              "       [0.33962264, 0.29680365, 0.60305344, 0.        ],\n",
              "       [0.43396226, 0.41552511, 0.54198473, 0.24193548],\n",
              "       [0.1509434 , 0.1826484 , 0.28244275, 0.        ],\n",
              "       [0.0754717 , 0.3173516 , 0.38931298, 0.09677419],\n",
              "       [0.1509434 , 0.29223744, 0.67175573, 0.        ],\n",
              "       [0.1509434 , 0.24885845, 0.6259542 , 0.        ],\n",
              "       [0.41509434, 0.13013699, 0.84732824, 0.22580645],\n",
              "       [0.48113208, 0.19634703, 0.46564885, 0.32258065],\n",
              "       [0.37735849, 0.33105023, 0.69465649, 0.        ],\n",
              "       [0.33962264, 0.46575342, 0.7480916 , 0.        ],\n",
              "       [0.52830189, 0.26712329, 0.4351145 , 0.41935484],\n",
              "       [0.13207547, 0.26712329, 0.61832061, 0.        ],\n",
              "       [0.26415094, 0.3652968 , 0.34351145, 0.51612903],\n",
              "       [0.1509434 , 0.09360731, 0.32824427, 0.32258065],\n",
              "       [0.24528302, 0.14155251, 0.32061069, 0.22580645],\n",
              "       [0.43396226, 0.26255708, 0.39694656, 0.03225806],\n",
              "       [0.33962264, 0.35844749, 0.24427481, 0.25806452],\n",
              "       [0.19811321, 0.40410959, 0.83969466, 0.19354839],\n",
              "       [0.32075472, 0.20547945, 0.45801527, 0.35483871],\n",
              "       [0.24528302, 0.11643836, 0.52671756, 0.06451613],\n",
              "       [0.43396226, 0.42694064, 0.47328244, 0.03225806],\n",
              "       [0.45283019, 0.2283105 , 0.30534351, 0.        ],\n",
              "       [0.16981132, 0.19634703, 0.46564885, 0.01612903],\n",
              "       [0.38679245, 0.28767123, 0.77099237, 0.        ],\n",
              "       [0.16981132, 0.07762557, 0.51145038, 0.        ],\n",
              "       [0.47169811, 0.16894977, 0.41984733, 0.14516129],\n",
              "       [0.05660377, 0.39497717, 0.41221374, 0.14516129],\n",
              "       [0.54716981, 0.33789954, 0.12977099, 0.19354839],\n",
              "       [0.29245283, 0.19863014, 0.41221374, 0.22580645],\n",
              "       [0.24528302, 0.25114155, 0.81679389, 0.12903226],\n",
              "       [0.43396226, 0.15753425, 0.82442748, 0.        ],\n",
              "       [0.66037736, 0.11415525, 0.14503817, 0.16129032],\n",
              "       [0.33962264, 0.21232877, 0.89312977, 0.        ],\n",
              "       [0.16981132, 0.32420091, 0.77099237, 0.        ],\n",
              "       [0.24528302, 0.15296804, 0.69465649, 0.30645161],\n",
              "       [0.35849057, 0.22374429, 0.77862595, 0.51612903],\n",
              "       [0.33962264, 0.32648402, 0.70229008, 0.        ],\n",
              "       [0.50943396, 0.26940639, 0.81679389, 0.12903226],\n",
              "       [0.52830189, 0.30136986, 0.65648855, 0.41935484],\n",
              "       [0.41509434, 0.11187215, 0.77862595, 0.        ],\n",
              "       [0.52830189, 0.23972603, 0.58015267, 0.58064516],\n",
              "       [0.05660377, 0.24657534, 0.64885496, 0.01612903],\n",
              "       [0.62264151, 0.17123288, 0.70229008, 0.        ],\n",
              "       [0.43396226, 0.66438356, 0.65648855, 0.12903226],\n",
              "       [0.62264151, 0.24657534, 0.45801527, 0.01612903],\n",
              "       [0.21698113, 0.23744292, 0.67938931, 0.22580645],\n",
              "       [0.43396226, 0.24885845, 0.83206107, 0.        ],\n",
              "       [0.29245283, 0.21461187, 0.55725191, 0.06451613],\n",
              "       [0.        , 0.16666667, 0.82442748, 0.        ],\n",
              "       [0.52830189, 0.19634703, 0.65648855, 0.25806452],\n",
              "       [0.41509434, 0.35616438, 0.78625954, 0.22580645],\n",
              "       [0.13207547, 0.32648402, 0.7480916 , 0.29032258],\n",
              "       [0.43396226, 0.17579909, 0.64122137, 0.5       ],\n",
              "       [0.71698113, 0.23059361, 0.64122137, 0.09677419],\n",
              "       [0.33962264, 0.31278539, 0.19847328, 0.19354839],\n",
              "       [0.41509434, 0.33105023, 0.84732824, 0.        ],\n",
              "       [0.38679245, 0.17579909, 0.46564885, 0.        ],\n",
              "       [0.1509434 , 0.3173516 , 0.45038168, 0.        ],\n",
              "       [0.16981132, 0.23744292, 0.67938931, 0.        ],\n",
              "       [0.1509434 , 0.23515982, 0.74045802, 0.16129032],\n",
              "       [0.1509434 , 0.34018265, 0.35877863, 0.16129032],\n",
              "       [0.24528302, 0.2739726 , 0.19083969, 0.35483871],\n",
              "       [0.24528302, 0.2283105 , 0.7480916 , 0.        ],\n",
              "       [0.41509434, 0.21461187, 0.61832061, 0.        ],\n",
              "       [0.32075472, 0.41552511, 0.75572519, 0.        ],\n",
              "       [0.22641509, 0.12785388, 0.78625954, 0.        ],\n",
              "       [0.62264151, 0.23287671, 0.51145038, 0.37096774],\n",
              "       [0.13207547, 0.03424658, 0.79389313, 0.09677419],\n",
              "       [0.29245283, 0.33561644, 0.61832061, 0.08064516],\n",
              "       [0.43396226, 0.16210046, 0.34351145, 0.17741935],\n",
              "       [0.33962264, 0.31506849, 0.54961832, 0.06451613],\n",
              "       [0.1509434 , 0.27853881, 0.66412214, 0.09677419],\n",
              "       [0.28301887, 0.33789954, 0.72519084, 0.08064516],\n",
              "       [0.33962264, 0.21689498, 0.70229008, 0.        ],\n",
              "       [0.62264151, 0.3652968 , 0.28244275, 0.24193548],\n",
              "       [0.13207547, 0.32191781, 0.73282443, 0.        ],\n",
              "       [0.81132075, 0.4543379 , 0.63358779, 0.        ]])"
            ]
          },
          "metadata": {},
          "execution_count": 106
        }
      ]
    },
    {
      "cell_type": "code",
      "source": [
        "y_train"
      ],
      "metadata": {
        "id": "oTAMZwQzScCC",
        "outputId": "90c46cd4-2eeb-4c98-be22-ba3b5ed22343",
        "colab": {
          "base_uri": "https://localhost:8080/"
        }
      },
      "execution_count": null,
      "outputs": [
        {
          "output_type": "execute_result",
          "data": {
            "text/plain": [
              "array([1, 0, 1, 1, 0, 0, 0, 1, 1, 1, 1, 1, 0, 1, 0, 0, 1, 1, 1, 0, 0, 1,\n",
              "       0, 0, 1, 1, 1, 0, 0, 1, 0, 0, 0, 1, 1, 1, 1, 1, 1, 1, 0, 0, 1, 0,\n",
              "       1, 1, 0, 1, 0, 1, 0, 1, 1, 1, 0, 1, 1, 0, 1, 1, 1, 0, 1, 0, 0, 0,\n",
              "       1, 0, 1, 1, 1, 1, 1, 1, 0, 0, 1, 0, 0, 0, 1, 1, 0, 1, 0, 0, 0, 0,\n",
              "       1, 1, 0, 1, 0, 1, 1, 1, 0, 0, 0, 1, 1, 0, 1, 0, 1, 0, 1, 0, 1, 0,\n",
              "       0, 0, 1, 1, 1, 0, 1, 0, 1, 0, 0, 1, 1, 0, 1, 1, 1, 1, 1, 0, 1, 0,\n",
              "       1, 1, 0, 0, 0, 0, 0, 1, 1, 1, 1, 0, 0, 1, 0, 1, 1, 0, 1, 1, 1, 0,\n",
              "       0, 1, 0, 0, 1, 0, 1, 0, 1, 0, 1, 0, 1, 0, 1, 1, 1, 1, 0, 1, 0, 0,\n",
              "       0, 0, 0, 0, 0, 0, 1, 0, 1, 1, 1, 0, 1, 1, 0, 0, 0, 1, 1, 1, 0, 1,\n",
              "       1, 1, 0, 1, 1, 0, 1, 0, 0, 1, 1, 1, 0, 1, 1, 1, 1, 0, 0, 0, 1, 0,\n",
              "       1, 1, 1, 0, 0, 0, 0, 1, 1, 1, 1, 1, 1, 1, 1, 1, 0, 0, 1, 0, 1, 1])"
            ]
          },
          "metadata": {},
          "execution_count": 107
        }
      ]
    },
    {
      "cell_type": "code",
      "execution_count": null,
      "metadata": {
        "id": "U2aIcXVk4Kwz"
      },
      "outputs": [],
      "source": [
        "X_train = X_train.T\n",
        "y_train = y_train.reshape(1, X_train.shape[1])\n",
        "\n",
        "X_test = X_test.T\n",
        "y_test = y_test.reshape(1, X_test.shape[1])\n"
      ]
    },
    {
      "cell_type": "code",
      "execution_count": null,
      "metadata": {
        "colab": {
          "base_uri": "https://localhost:8080/"
        },
        "id": "aeabqtQU4XVy",
        "outputId": "92006a4e-6f76-46f2-9dea-f6d5342876eb"
      },
      "outputs": [
        {
          "output_type": "stream",
          "name": "stdout",
          "text": [
            "Shape of X_train :  (4, 242)\n",
            "Shape of Y_train :  (1, 242)\n",
            "Shape of X_test :  (4, 61)\n",
            "Shape of Y_test :  (1, 61)\n"
          ]
        }
      ],
      "source": [
        "print(\"Shape of X_train : \", X_train.shape)\n",
        "print(\"Shape of Y_train : \", y_train.shape)\n",
        "print(\"Shape of X_test : \", X_test.shape)\n",
        "print(\"Shape of Y_test : \", y_test.shape)"
      ]
    },
    {
      "cell_type": "code",
      "execution_count": null,
      "metadata": {
        "id": "Pc3_v7304iEP"
      },
      "outputs": [],
      "source": [
        "def model(X, Y, learning_rate, iterations):\n",
        "    \n",
        "    m = X_train.shape[1]\n",
        "    n = X_train.shape[0]\n",
        "    \n",
        "    W = np.zeros((n,1))\n",
        "    B = 0\n",
        "    \n",
        "    cost_list = []\n",
        "    \n",
        "    for i in range(iterations):\n",
        "        \n",
        "        Z = np.dot(W.T, X) + B\n",
        "        A = sigmoid(Z)\n",
        "        \n",
        "        # cost function\n",
        "        cost = -(1/m)*np.sum( Y*np.log(A) + (1-Y)*np.log(1-A))\n",
        "        \n",
        "        # Gradient Descent\n",
        "        dW = (1/m)*np.dot(A-Y, X.T)\n",
        "        dB = (1/m)*np.sum(A - Y)\n",
        "        \n",
        "        W = W - learning_rate*dW.T\n",
        "        B = B - learning_rate*dB\n",
        "        \n",
        "        # Keeping track of our cost function value\n",
        "        cost_list.append(cost)\n",
        "        \n",
        "        if(i%(iterations/10) == 0):\n",
        "            print(\"cost after \", i, \"iteration is : \", cost)\n",
        "        \n",
        "    return W, B, cost_list"
      ]
    },
    {
      "cell_type": "code",
      "execution_count": null,
      "metadata": {
        "colab": {
          "base_uri": "https://localhost:8080/"
        },
        "id": "ZkLmtJ2o41Fa",
        "outputId": "8cdb29c0-758f-41a1-8adf-dd8442f73341"
      },
      "outputs": [
        {
          "output_type": "stream",
          "name": "stdout",
          "text": [
            "cost after  0 iteration is :  0.6931471805599453\n",
            "cost after  100000 iteration is :  0.5178285036952534\n",
            "cost after  200000 iteration is :  0.5072104127536037\n",
            "cost after  300000 iteration is :  0.5054775384707587\n",
            "cost after  400000 iteration is :  0.505088402229578\n",
            "cost after  500000 iteration is :  0.5049848175750005\n",
            "cost after  600000 iteration is :  0.5049541909114019\n",
            "cost after  700000 iteration is :  0.5049445138051308\n",
            "cost after  800000 iteration is :  0.5049413262576038\n",
            "cost after  900000 iteration is :  0.5049402487908322\n"
          ]
        }
      ],
      "source": [
        "iterations = 1000000\n",
        "learning_rate = 0.002\n",
        "W, B, cost_list = model(X_train, y_train, learning_rate = learning_rate, iterations = iterations)\n"
      ]
    },
    {
      "cell_type": "code",
      "execution_count": null,
      "metadata": {
        "colab": {
          "base_uri": "https://localhost:8080/",
          "height": 280
        },
        "id": "_voUab2d5bWT",
        "outputId": "ea691c3d-fcbd-407b-dfc7-0950ce7fa4dc"
      },
      "outputs": [
        {
          "output_type": "display_data",
          "data": {
            "image/png": "[encoded data removed]",
            "text/plain": [
              "<Figure size 432x288 with 1 Axes>"
            ]
          },
          "metadata": {
            "needs_background": "light"
          }
        }
      ],
      "source": [
        "plt.plot(np.arange(iterations), cost_list)\n",
        "plt.show()"
      ]
    },
    {
      "cell_type": "code",
      "execution_count": null,
      "metadata": {
        "id": "bfF8KcP16kil"
      },
      "outputs": [],
      "source": [
        "def accuracy(X, Y, W, B):\n",
        "    \n",
        "    Z = np.dot(W.T, X) + B\n",
        "    A = sigmoid(Z)\n",
        "    \n",
        "    A = A > 0.5\n",
        "    \n",
        "    A = np.array(A, dtype = 'int64')\n",
        "    \n",
        "    acc = (1 - np.sum(np.absolute(A - Y))/Y.shape[1])*100\n",
        "    \n",
        "    print(\"Accuracy of the model is : \", round(acc, 2), \"%\")"
      ]
    },
    {
      "cell_type": "code",
      "source": [
        "accuracy(X_test, y_test, W, B)"
      ],
      "metadata": {
        "id": "tRqwe0ghUsin",
        "outputId": "0b5250f0-deb3-4f84-848d-b91d5615c264",
        "colab": {
          "base_uri": "https://localhost:8080/"
        }
      },
      "execution_count": null,
      "outputs": [
        {
          "output_type": "stream",
          "name": "stdout",
          "text": [
            "Accuracy of the model is :  67.21 %\n"
          ]
        }
      ]
    }
  ],
  "metadata": {
    "colab": {
      "name": "Copy of Untitled4.ipynb",
      "provenance": [],
      "mount_file_id": "12sP0a2T81Ffedc8MjrX-8q8SgnSO-Mip",
      "authorship_tag": "ABX9TyORG2kavxKwkrZzRhFgmh1k",
      "include_colab_link": true
    },
    "kernelspec": {
      "display_name": "Python 3",
      "name": "python3"
    },
    "language_info": {
      "name": "python"
    }
  },
  "nbformat": 4,
  "nbformat_minor": 0
}